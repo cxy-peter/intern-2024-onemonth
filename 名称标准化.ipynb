{
 "cells": [
  {
   "cell_type": "code",
   "execution_count": 20,
   "id": "a845080e",
   "metadata": {
    "scrolled": true
   },
   "outputs": [
    {
     "name": "stdout",
     "output_type": "stream",
     "text": [
      "内科\n",
      "外科\n",
      "急诊医学科\n",
      "妇产科\n",
      "医学检验科\n",
      "X线诊断科\n",
      "超声诊断科\n",
      "心电诊断科\n",
      "中医科\n",
      "儿科\n"
     ]
    }
   ],
   "source": [
    "# 原始科室信息字符串\n",
    "departments = \"内科、外科、急诊医学科、妇产科、医学检验科、X线诊断专业、超声诊断专业、心电诊断专业、中医科、儿科\"\n",
    "\n",
    "# 使用逗号分割字符串，并去除空白字符\n",
    "departments = departments.replace('.', ',').replace(';', ',').replace('、', ',').replace('/', ',').replace('；', ',').replace('，', ',')\n",
    "departments = departments.replace(';', ',').replace(' | ', ',').replace(' ', ',').replace('|', ',')\n",
    "\n",
    "# 使用逗号分割字符串，并去除空白字符\n",
    "department_list = [department.strip() for department in departments.split(',')]\n",
    "\n",
    "# 从科室名中移除“专业”两个字\n",
    "department_list = [dept.replace('专业', '') for dept in department_list]\n",
    "department_list = [dept.replace('门诊', '') for dept in department_list]\n",
    "# 检查每个科室名是否以\"科\"结尾，如果不是则添加\"科\"\n",
    "formatted_departments = [dept if dept.endswith('科') else dept + '科' for dept in department_list]\n",
    "\n",
    "# 打印格式化后的科室列表\n",
    "for dept in formatted_departments:\n",
    "    print(dept)\n"
   ]
  },
  {
   "cell_type": "code",
   "execution_count": null,
   "id": "a93b60d9",
   "metadata": {},
   "outputs": [],
   "source": []
  }
 ],
 "metadata": {
  "kernelspec": {
   "display_name": "Python 3 (ipykernel)",
   "language": "python",
   "name": "python3"
  },
  "language_info": {
   "codemirror_mode": {
    "name": "ipython",
    "version": 3
   },
   "file_extension": ".py",
   "mimetype": "text/x-python",
   "name": "python",
   "nbconvert_exporter": "python",
   "pygments_lexer": "ipython3",
   "version": "3.9.13"
  }
 },
 "nbformat": 4,
 "nbformat_minor": 5
}
