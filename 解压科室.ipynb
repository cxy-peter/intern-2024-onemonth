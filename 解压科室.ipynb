{
 "cells": [
  {
   "cell_type": "code",
   "execution_count": 19,
   "id": "0766523c",
   "metadata": {},
   "outputs": [],
   "source": [
    "import pandas as pd\n",
    "df=pd.read_excel(r'C:\\Users\\cxy\\OneDrive\\桌面\\回国\\实习\\7-9\\99health-merged.xlsx',sheet_name='Sheet5')\n"
   ]
  },
  {
   "cell_type": "code",
   "execution_count": 21,
   "id": "ed6f15e3",
   "metadata": {},
   "outputs": [],
   "source": [
    "df_expanded = df.set_index('医院').科室.str.split(', ', expand=True).stack().reset_index(level=1, drop=True).reset_index(name='科室')\n"
   ]
  },
  {
   "cell_type": "code",
   "execution_count": 22,
   "id": "69143105",
   "metadata": {},
   "outputs": [
    {
     "data": {
      "text/html": [
       "<div>\n",
       "<style scoped>\n",
       "    .dataframe tbody tr th:only-of-type {\n",
       "        vertical-align: middle;\n",
       "    }\n",
       "\n",
       "    .dataframe tbody tr th {\n",
       "        vertical-align: top;\n",
       "    }\n",
       "\n",
       "    .dataframe thead th {\n",
       "        text-align: right;\n",
       "    }\n",
       "</style>\n",
       "<table border=\"1\" class=\"dataframe\">\n",
       "  <thead>\n",
       "    <tr style=\"text-align: right;\">\n",
       "      <th></th>\n",
       "      <th>医院</th>\n",
       "      <th>科室</th>\n",
       "    </tr>\n",
       "  </thead>\n",
       "  <tbody>\n",
       "    <tr>\n",
       "      <th>0</th>\n",
       "      <td>黑龙江盛京皮肤病医院</td>\n",
       "      <td>银屑病科</td>\n",
       "    </tr>\n",
       "    <tr>\n",
       "      <th>1</th>\n",
       "      <td>绥滨县仁合医院</td>\n",
       "      <td>内科</td>\n",
       "    </tr>\n",
       "    <tr>\n",
       "      <th>2</th>\n",
       "      <td>绥滨县仁合医院</td>\n",
       "      <td>外科,皮肤科</td>\n",
       "    </tr>\n",
       "    <tr>\n",
       "      <th>3</th>\n",
       "      <td>大庆惠仁肿瘤医院</td>\n",
       "      <td>肿瘤内科</td>\n",
       "    </tr>\n",
       "    <tr>\n",
       "      <th>4</th>\n",
       "      <td>大庆惠仁肿瘤医院</td>\n",
       "      <td>内科</td>\n",
       "    </tr>\n",
       "    <tr>\n",
       "      <th>...</th>\n",
       "      <td>...</td>\n",
       "      <td>...</td>\n",
       "    </tr>\n",
       "    <tr>\n",
       "      <th>425</th>\n",
       "      <td>吉林省肿瘤医院</td>\n",
       "      <td>核医学科</td>\n",
       "    </tr>\n",
       "    <tr>\n",
       "      <th>426</th>\n",
       "      <td>吉林省肿瘤医院</td>\n",
       "      <td>输血科</td>\n",
       "    </tr>\n",
       "    <tr>\n",
       "      <th>427</th>\n",
       "      <td>吉林省肿瘤医院</td>\n",
       "      <td>药物临床试验机构</td>\n",
       "    </tr>\n",
       "    <tr>\n",
       "      <th>428</th>\n",
       "      <td>吉林省肿瘤医院</td>\n",
       "      <td>病理科</td>\n",
       "    </tr>\n",
       "    <tr>\n",
       "      <th>429</th>\n",
       "      <td>吉林省肿瘤医院</td>\n",
       "      <td>理疗科</td>\n",
       "    </tr>\n",
       "  </tbody>\n",
       "</table>\n",
       "<p>430 rows × 2 columns</p>\n",
       "</div>"
      ],
      "text/plain": [
       "             医院        科室\n",
       "0    黑龙江盛京皮肤病医院      银屑病科\n",
       "1       绥滨县仁合医院        内科\n",
       "2       绥滨县仁合医院    外科,皮肤科\n",
       "3      大庆惠仁肿瘤医院      肿瘤内科\n",
       "4      大庆惠仁肿瘤医院        内科\n",
       "..          ...       ...\n",
       "425     吉林省肿瘤医院      核医学科\n",
       "426     吉林省肿瘤医院       输血科\n",
       "427     吉林省肿瘤医院  药物临床试验机构\n",
       "428     吉林省肿瘤医院       病理科\n",
       "429     吉林省肿瘤医院       理疗科\n",
       "\n",
       "[430 rows x 2 columns]"
      ]
     },
     "execution_count": 22,
     "metadata": {},
     "output_type": "execute_result"
    }
   ],
   "source": [
    "df_expanded"
   ]
  },
  {
   "cell_type": "code",
   "execution_count": 23,
   "id": "e5dc6f4f",
   "metadata": {},
   "outputs": [],
   "source": [
    "df_expanded.to_excel(r'C:\\Users\\cxy\\OneDrive\\桌面\\回国\\实习\\7-9\\科室导出复制.xlsx')"
   ]
  },
  {
   "cell_type": "code",
   "execution_count": null,
   "id": "6c846447",
   "metadata": {},
   "outputs": [],
   "source": []
  }
 ],
 "metadata": {
  "kernelspec": {
   "display_name": "Python 3 (ipykernel)",
   "language": "python",
   "name": "python3"
  },
  "language_info": {
   "codemirror_mode": {
    "name": "ipython",
    "version": 3
   },
   "file_extension": ".py",
   "mimetype": "text/x-python",
   "name": "python",
   "nbconvert_exporter": "python",
   "pygments_lexer": "ipython3",
   "version": "3.9.13"
  }
 },
 "nbformat": 4,
 "nbformat_minor": 5
}
